{
  "nbformat": 4,
  "nbformat_minor": 0,
  "metadata": {
    "colab": {
      "provenance": [],
      "toc_visible": true
    },
    "kernelspec": {
      "name": "python3",
      "display_name": "Python 3"
    }
  },
  "cells": [
    {
      "cell_type": "markdown",
      "source": [
        "Criei uma lista chamada filmes com o nome dos 10 primeiros filmes mais bem avaliados no\n",
        "site no IMDB. Imprima o resultado.\n"
      ],
      "metadata": {
        "id": "BlXtnIttGYq3"
      }
    },
    {
      "cell_type": "code",
      "source": [
        "filmes = []\n",
        "\n",
        "filmes.append('Batman: O Cavaleiro das Trevas')\n",
        "filmes.append('O Poderoso Chefão: Parte II')\n",
        "filmes.append('O Senhor dos Anéis: O Retorno do Rei')\n",
        "filmes.append('O Senhor dos Anéis: A Sociedade do Anel')\n",
        "filmes.append('Forrest Gump: O Contador de Histórias')\n",
        "filmes.append('O Senhor dos Anéis: As Duas Torres')\n",
        "filmes.append('Clube da Luta')\n",
        "filmes.append('A Origem')\n",
        "filmes.append('Star Wars: Episódio V - O Império Contra-Ataca')\n",
        "filmes.append('Matrix')\n",
        "\n",
        "print(f'lista de {len(filmes)} filmes que mais gosto')\n",
        "print(filmes)"
      ],
      "metadata": {
        "colab": {
          "base_uri": "https://localhost:8080/"
        },
        "id": "Dvub8eFyGQnO",
        "outputId": "0c20f5b3-ab84-49bf-97d3-22824aef7a6b"
      },
      "execution_count": null,
      "outputs": [
        {
          "output_type": "stream",
          "name": "stdout",
          "text": [
            "lista de 10 filmes que mais gosto\n",
            "['Batman: O Cavaleiro das Trevas', 'O Poderoso Chefão: Parte II', 'O Senhor dos Anéis: O Retorno do Rei', 'O Senhor dos Anéis: A Sociedade do Anel', 'Forrest Gump: O Contador de Histórias', 'O Senhor dos Anéis: As Duas Torres', 'Clube da Luta', 'A Origem', 'Star Wars: Episódio V - O Império Contra-Ataca', 'Matrix']\n"
          ]
        }
      ]
    },
    {
      "cell_type": "code",
      "source": [
        "print('Simule a movimentação do ranking. Utilize os métodos insert e pop para trocar a posição do primeiro e do segundo filme da lista. Imprima o resultado.\\n')\n",
        "\n",
        "filmes.pop(0)\n",
        "filmes.pop(0)\n",
        "filmes.insert(0, 'O Poderoso Chefão: Parte II')\n",
        "filmes.insert(1, 'Batman: O Cavaleiro das Trevas')\n",
        "\n",
        "\n",
        "print(f'lista de {len(filmes)} filmes que mais gosto')\n",
        "print(filmes)"
      ],
      "metadata": {
        "colab": {
          "base_uri": "https://localhost:8080/"
        },
        "id": "B0IebPGuHQ-P",
        "outputId": "07d83dbb-4f9e-419c-f04d-e50ff235ed78"
      },
      "execution_count": null,
      "outputs": [
        {
          "output_type": "stream",
          "name": "stdout",
          "text": [
            "Simule a movimentação do ranking. Utilize os métodos insert e pop para trocar a posição do primeiro e do segundo filme da lista. Imprima o resultado.\n",
            "\n",
            "lista de 10 filmes que mais gosto\n",
            "['O Poderoso Chefão: Parte II', 'Batman: O Cavaleiro das Trevas', 'O Senhor dos Anéis: O Retorno do Rei', 'O Senhor dos Anéis: A Sociedade do Anel', 'Forrest Gump: O Contador de Histórias', 'O Senhor dos Anéis: As Duas Torres', 'Clube da Luta', 'A Origem', 'Star Wars: Episódio V - O Império Contra-Ataca', 'Matrix']\n"
          ]
        }
      ]
    },
    {
      "cell_type": "code",
      "source": [
        "\n",
        "list_filmes = []\n",
        "\n",
        "filme1 = {'nome': 'O Poderoso Chefão: Parte II', 'ano': '1972', 'sinopse': 'O patriarca idoso de uma dinastia do crime organizado transfere.....'}\n",
        "filme2 = {'nome': 'Batman: O Cavaleiro das Trevas', 'ano': '2008', 'sinopse': 'Agora com a ajuda do tenente Jim Gordon.....'}\n",
        "\n",
        "\n",
        "list_filmes.append(filme1)\n",
        "list_filmes.append(filme2)\n",
        "\n",
        "print(list_filmes)\n"
      ],
      "metadata": {
        "colab": {
          "base_uri": "https://localhost:8080/"
        },
        "id": "q-0NDZ9QKxh0",
        "outputId": "7928ad41-4eed-4eee-f807-63dab760b282"
      },
      "execution_count": null,
      "outputs": [
        {
          "output_type": "stream",
          "name": "stdout",
          "text": [
            "[{'nome': 'O Poderoso Chefão: Parte II', 'ano': '1972', 'sinopse': 'O patriarca idoso de uma dinastia do crime organizado transfere.....'}, {'nome': 'Batman: O Cavaleiro das Trevas', 'ano': '2008', 'sinopse': 'Agora com a ajuda do tenente Jim Gordon.....'}]\n"
          ]
        }
      ]
    }
  ]
}